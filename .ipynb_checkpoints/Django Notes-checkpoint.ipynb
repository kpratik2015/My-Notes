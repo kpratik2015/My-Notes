{
 "cells": [
  {
   "cell_type": "markdown",
   "metadata": {},
   "source": [
    "Blank Django Project setup instructions: https://www.codingforentrepreneurs.com/blog/create-a-blank-django-project/"
   ]
  },
  {
   "cell_type": "markdown",
   "metadata": {},
   "source": [
    "Instagram and some parts of pinterest uses django."
   ]
  },
  {
   "cell_type": "markdown",
   "metadata": {},
   "source": [
    "## What Django does:\n",
    "\n",
    "1. Handles URLS\n",
    "2. Returns responses\n",
    "3. Remebers things"
   ]
  },
  {
   "cell_type": "markdown",
   "metadata": {},
   "source": [
    "A django app is like accounts/videos/analytics/menu listings. It remembers things."
   ]
  },
  {
   "cell_type": "markdown",
   "metadata": {},
   "source": [
    "Views is where we create handles to handle URLS"
   ]
  },
  {
   "cell_type": "code",
   "execution_count": 2,
   "metadata": {},
   "outputs": [],
   "source": [
    "#Example of function based view:\n",
    "def home(request):\n",
    "    return #response"
   ]
  },
  {
   "cell_type": "markdown",
   "metadata": {},
   "source": [
    "We need to put the view into urls.py"
   ]
  },
  {
   "cell_type": "markdown",
   "metadata": {},
   "source": [
    "## Something new in Python 3.6 which is F Strings"
   ]
  },
  {
   "cell_type": "code",
   "execution_count": 5,
   "metadata": {},
   "outputs": [
    {
     "name": "stdout",
     "output_type": "stream",
     "text": [
      "\n",
      "This is f strings.\n",
      "\n"
     ]
    }
   ],
   "source": [
    "html_var = \"f strings.\"\n",
    "html_= f\"\"\"\n",
    "This is {html_var}\n",
    "\"\"\"\n",
    "print(html_)"
   ]
  },
  {
   "cell_type": "markdown",
   "metadata": {},
   "source": [
    "In html:\n",
    "\n",
    "{{ context_variable }}\n",
    "\n",
    "In view:\n",
    "\n",
    "    return render(request, \"base.html\", {\"context_variable\":\"f string\"})"
   ]
  },
  {
   "cell_type": "markdown",
   "metadata": {},
   "source": [
    "Conditional:\n",
    "\n",
    "{% if html_var == True %}\n",
    "\n",
    "Something\n",
    "\n",
    "{% endif %}"
   ]
  },
  {
   "cell_type": "markdown",
   "metadata": {},
   "source": [
    "For Loop:\n",
    "\n",
    "{% for some_item in some_list %}\n",
    "\n",
    "    {{ some_item }} <br/>\n",
    "\n",
    "{% endfor %}"
   ]
  },
  {
   "cell_type": "markdown",
   "metadata": {},
   "source": [
    "Filtering:\n",
    "\n",
    "{% for some_item in some_list %}\n",
    "\n",
    "    {% if some_item|divisibleby:\"2\" %}\n",
    "        Even number\n",
    "    {% endif %}\n",
    "    \n",
    "    {{ some_item }} <br/>\n",
    "\n",
    "{% endfor %}"
   ]
  },
  {
   "cell_type": "markdown",
   "metadata": {},
   "source": [
    "_divisibleby is a template tag. More can be found on django.com_"
   ]
  },
  {
   "cell_type": "markdown",
   "metadata": {},
   "source": [
    "{% verbatim %} {% endverbatim %} will render anything inside the block as it is... Variable, code, anything."
   ]
  },
  {
   "cell_type": "markdown",
   "metadata": {},
   "source": [
    "## Template inheritance"
   ]
  },
  {
   "cell_type": "markdown",
   "metadata": {},
   "source": [
    "Must have multiple views (multiple functions in views.py) and then import as well as add in urlpatterns in urls.py\n",
    "\n",
    "Finally make .html for them.\n",
    "\n",
    "_Example usage: showing brand logo on every page, navigation, etc._\n",
    "\n",
    "{% block content %} {% endblock content %}  this is to be put where you want to replicate from parent html\n",
    "\n",
    "In children's html:\n",
    "\n",
    "{% extends \"parent.html\" %} at the start of template.\n",
    "\n",
    "{% block content %} {% endblock content %} put things inside this tag in children's html which you want to replicate to parent.\n",
    "\n",
    "_NOTE: content is name of block. You can choose your own_\n",
    "\n",
    "If you wanna get something from parent, in children's html add:\n",
    "\n",
    "{{ block.super }}"
   ]
  },
  {
   "cell_type": "markdown",
   "metadata": {},
   "source": [
    "## Include template tag\n",
    "\n",
    "Example: \n",
    "\n",
    "{% include 'snippets/nav.html'%}\n",
    "\n",
    "{% include 'snippets/js.html'%}\n",
    "\n",
    "here, snippets is a folder."
   ]
  },
  {
   "cell_type": "markdown",
   "metadata": {},
   "source": [
    "## Class Based View\n",
    "\n",
    "Harder to understand than function based view. Checkout documentation on django website. However, more built-in features.\n",
    "\n"
   ]
  }
 ],
 "metadata": {
  "kernelspec": {
   "display_name": "Python 3",
   "language": "python",
   "name": "python3"
  },
  "language_info": {
   "codemirror_mode": {
    "name": "ipython",
    "version": 3
   },
   "file_extension": ".py",
   "mimetype": "text/x-python",
   "name": "python",
   "nbconvert_exporter": "python",
   "pygments_lexer": "ipython3",
   "version": "3.6.1"
  }
 },
 "nbformat": 4,
 "nbformat_minor": 2
}
