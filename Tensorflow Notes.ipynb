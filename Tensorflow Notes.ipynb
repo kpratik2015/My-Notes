{
 "cells": [
  {
   "cell_type": "markdown",
   "metadata": {},
   "source": [
    "# Before Diving into Tensorflow"
   ]
  },
  {
   "cell_type": "markdown",
   "metadata": {},
   "source": [
    "###### Anaconda is very popular among data scientist. So it's good to have.\n",
    "\n",
    "For restoring an environment, the following command is to be used:\n",
    "\n",
    "conda env create -f tfdl_env.yml\n",
    "\n",
    "Reinforcement learning works through trial and error which actions yield the greatest rewards.\n",
    "\n",
    "Reinforcement learning components:\n",
    "    - Agent: Learning/Decision Maker\n",
    "    - Environment: What Agent interacts with\n",
    "    - Actions: What the Agent can do\n",
    "\n",
    "It's hard to evaluate unsupervised learning model, however there are metrics like Cluster Homogeneity, Rand Index, etc."
   ]
  },
  {
   "cell_type": "markdown",
   "metadata": {},
   "source": [
    "# Basic Notes on Tensorflow"
   ]
  },
  {
   "cell_type": "markdown",
   "metadata": {},
   "source": [
    "Deep Neural Networks run much faster on GPU just because of the way computations are done.\n",
    "\n",
    "- Basic idea of tensorflow is to be able to create data flow graphs.\n",
    "- These graphs have nodes and edges.\n",
    "- The arrays (data) passed along from layer of nodes to layer of nodes along the edges is known as a Tensor\n",
    "\n",
    "- There seems to be 2 ways to use TensorFlow:\n",
    "    - Customizable Graph Session\n",
    "    - SciKit-Learn type interface with Contrib.Learn\n",
    "- SciKit method is more easier to use but is not as customizable as graph session"
   ]
  },
  {
   "cell_type": "code",
   "execution_count": null,
   "metadata": {
    "collapsed": true
   },
   "outputs": [],
   "source": []
  }
 ],
 "metadata": {
  "kernelspec": {
   "display_name": "Python 3",
   "language": "python",
   "name": "python3"
  },
  "language_info": {
   "codemirror_mode": {
    "name": "ipython",
    "version": 3
   },
   "file_extension": ".py",
   "mimetype": "text/x-python",
   "name": "python",
   "nbconvert_exporter": "python",
   "pygments_lexer": "ipython3",
   "version": "3.6.1"
  }
 },
 "nbformat": 4,
 "nbformat_minor": 2
}
