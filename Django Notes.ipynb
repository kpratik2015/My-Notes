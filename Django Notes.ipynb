{
 "cells": [
  {
   "cell_type": "markdown",
   "metadata": {},
   "source": [
    "Blank Django Project setup instructions: https://www.codingforentrepreneurs.com/blog/create-a-blank-django-project/"
   ]
  },
  {
   "cell_type": "markdown",
   "metadata": {},
   "source": [
    "Instagram and some parts of pinterest uses django."
   ]
  },
  {
   "cell_type": "markdown",
   "metadata": {},
   "source": [
    "## What Django does:\n",
    "\n",
    "1. Handles URLS\n",
    "2. Returns responses\n",
    "3. Remebers things"
   ]
  },
  {
   "cell_type": "markdown",
   "metadata": {},
   "source": [
    "A django app is like accounts/videos/analytics/menu listings. It remembers things."
   ]
  },
  {
   "cell_type": "markdown",
   "metadata": {},
   "source": [
    "Views is where we create handles to handle URLS"
   ]
  },
  {
   "cell_type": "code",
   "execution_count": 2,
   "metadata": {},
   "outputs": [],
   "source": [
    "#Example of function based view:\n",
    "def home(request):\n",
    "    return #response"
   ]
  },
  {
   "cell_type": "markdown",
   "metadata": {},
   "source": [
    "We need to put the view into urls.py"
   ]
  },
  {
   "cell_type": "markdown",
   "metadata": {},
   "source": [
    "## Something new in Python 3.6 which is F Strings"
   ]
  },
  {
   "cell_type": "code",
   "execution_count": 5,
   "metadata": {},
   "outputs": [
    {
     "name": "stdout",
     "output_type": "stream",
     "text": [
      "\n",
      "This is f strings.\n",
      "\n"
     ]
    }
   ],
   "source": [
    "html_var = \"f strings.\"\n",
    "html_= f\"\"\"\n",
    "This is {html_var}\n",
    "\"\"\"\n",
    "print(html_)"
   ]
  },
  {
   "cell_type": "markdown",
   "metadata": {},
   "source": [
    "In html:\n",
    "\n",
    "{{ context_variable }}\n",
    "\n",
    "In view:\n",
    "\n",
    "    return render(request, \"base.html\", {\"context_variable\":\"f string\"})"
   ]
  },
  {
   "cell_type": "markdown",
   "metadata": {},
   "source": [
    "Conditional:\n",
    "\n",
    "{% if html_var == True %}\n",
    "\n",
    "Something\n",
    "\n",
    "{% endif %}"
   ]
  },
  {
   "cell_type": "markdown",
   "metadata": {},
   "source": [
    "For Loop:\n",
    "\n",
    "{% for some_item in some_list %}\n",
    "\n",
    "    {{ some_item }} <br/>\n",
    "\n",
    "{% endfor %}"
   ]
  },
  {
   "cell_type": "markdown",
   "metadata": {},
   "source": [
    "Filtering:\n",
    "\n",
    "{% for some_item in some_list %}\n",
    "\n",
    "    {% if some_item|divisibleby:\"2\" %}\n",
    "        Even number\n",
    "    {% endif %}\n",
    "    \n",
    "    {{ some_item }} <br/>\n",
    "\n",
    "{% endfor %}"
   ]
  },
  {
   "cell_type": "markdown",
   "metadata": {},
   "source": [
    "_divisibleby is a template tag. More can be found on django.com_"
   ]
  },
  {
   "cell_type": "markdown",
   "metadata": {},
   "source": [
    "{% verbatim %} {% endverbatim %} will render anything inside the block as it is... Variable, code, anything."
   ]
  },
  {
   "cell_type": "markdown",
   "metadata": {},
   "source": [
    "## Template inheritance"
   ]
  },
  {
   "cell_type": "markdown",
   "metadata": {},
   "source": [
    "Must have multiple views (multiple functions in views.py) and then import as well as add in urlpatterns in urls.py\n",
    "\n",
    "Finally make .html for them.\n",
    "\n",
    "_Example usage: showing brand logo on every page, navigation, etc._\n",
    "\n",
    "{% block content %} {% endblock content %}  this is to be put where you want to replicate from parent html\n",
    "\n",
    "In children's html:\n",
    "\n",
    "{% extends \"parent.html\" %} at the start of template.\n",
    "\n",
    "{% block content %} {% endblock content %} put things inside this tag in children's html which you want to replicate to parent.\n",
    "\n",
    "_NOTE: content is name of block. You can choose your own_\n",
    "\n",
    "If you wanna get something from parent, in children's html add:\n",
    "\n",
    "{{ block.super }}"
   ]
  },
  {
   "cell_type": "markdown",
   "metadata": {},
   "source": [
    "## Include template tag\n",
    "\n",
    "Example: \n",
    "\n",
    "{% include 'snippets/nav.html'%}\n",
    "\n",
    "{% include 'snippets/js.html'%}\n",
    "\n",
    "here, snippets is a folder."
   ]
  },
  {
   "cell_type": "markdown",
   "metadata": {},
   "source": [
    "## Class Based View\n",
    "\n",
    "Harder to understand than function based view. Checkout documentation on django website. However, more built-in features.\n",
    "\n",
    "In urls.py:\n",
    "\n",
    "url ... ContactView.as_view()\n",
    "\n",
    "In views.py: \n",
    "\n",
    "class ContactView(View):\n",
    "\n",
    "    def get(self, request, *args, **kwargs):\n",
    "    \n",
    "        print(kwargs) #this may come in helpful in get request\n",
    "    \n",
    "        context = {}\n",
    "        \n",
    "        return render ...\n",
    "        \n",
    "    def post ...\n",
    "    \n",
    "    def put ...\n",
    "    "
   ]
  },
  {
   "cell_type": "markdown",
   "metadata": {},
   "source": [
    "## Template View\n",
    "\n",
    "https://www.udemy.com/try-django-v1-11-python-web-development/learn/v4/t/lecture/7604970?start=0\n",
    "\n",
    "https://docs.djangoproject.com/en/2.0/ref/class-based-views/base/#templateview"
   ]
  },
  {
   "cell_type": "markdown",
   "metadata": {},
   "source": [
    "## Remembering Things\n",
    "\n",
    "models.py:\n",
    "\n",
    "Add a method like \n",
    "\n",
    "class Restaurant(models.Model): \n",
    "    .\n",
    "    .\n",
    "    .\n",
    "\n",
    "models.Model is passed in as arguement so we can map to database.\n",
    "\n",
    "Add in INSTALLED_APPS which is in settings.py or base.py\n",
    "\n",
    "Then, _(Always these 2 steps on changes)_\n",
    "\n",
    "python manage.py makemigrations (Prepares django to know about the new model)\n",
    "\n",
    "python manage.py migrate (add to database)\n",
    "\n",
    "\n",
    "Now,\n",
    "\n",
    "Add in admin.py:\n",
    "\n",
    "from .models import Restaurant\n",
    "\n",
    "admin.site.register(Restaurant)\n",
    "\n",
    "Model Field Reference: https://docs.djangoproject.com/en/2.0/ref/models/fields/\n",
    "\n",
    "Something you would want to do in models.py, your class:\n",
    "\n",
    "timestamp = models.DateTimeField(auto_now_add=True)\n",
    "\n",
    "updated = models.DateTimeField(auto_now=True)\n",
    "\n",
    "So this will not show in admin panel but will be stored in database"
   ]
  },
  {
   "cell_type": "code",
   "execution_count": null,
   "metadata": {},
   "outputs": [],
   "source": []
  }
 ],
 "metadata": {
  "kernelspec": {
   "display_name": "Python 3",
   "language": "python",
   "name": "python3"
  },
  "language_info": {
   "codemirror_mode": {
    "name": "ipython",
    "version": 3
   },
   "file_extension": ".py",
   "mimetype": "text/x-python",
   "name": "python",
   "nbconvert_exporter": "python",
   "pygments_lexer": "ipython3",
   "version": "3.6.1"
  }
 },
 "nbformat": 4,
 "nbformat_minor": 2
}
